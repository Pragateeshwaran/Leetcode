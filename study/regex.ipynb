{
 "cells": [
  {
   "cell_type": "code",
   "execution_count": 4,
   "id": "7346ac0f",
   "metadata": {},
   "outputs": [],
   "source": [
    "import regex as re"
   ]
  },
  {
   "cell_type": "code",
   "execution_count": null,
   "id": "d8002c36",
   "metadata": {},
   "outputs": [
    {
     "data": {
      "text/plain": [
       "['e', 'o', 'o']"
      ]
     },
     "execution_count": 5,
     "metadata": {},
     "output_type": "execute_result"
    }
   ],
   "source": [
    "re.findall(r\"[aeiou]\", \"hello world\")        "
   ]
  },
  {
   "cell_type": "code",
   "execution_count": 6,
   "id": "a8ef9fed",
   "metadata": {},
   "outputs": [
    {
     "data": {
      "text/plain": [
       "['1', '2', '3']"
      ]
     },
     "execution_count": 6,
     "metadata": {},
     "output_type": "execute_result"
    }
   ],
   "source": [
    "re.findall(r\"[0-9]\", \"a1b2c3\")"
   ]
  },
  {
   "cell_type": "code",
   "execution_count": 7,
   "id": "88ab1bb4",
   "metadata": {},
   "outputs": [
    {
     "data": {
      "text/plain": [
       "['a', 'b', 'c']"
      ]
     },
     "execution_count": 7,
     "metadata": {},
     "output_type": "execute_result"
    }
   ],
   "source": [
    "re.findall(r\"[^0-9]\", \"a1b2c3\") "
   ]
  },
  {
   "cell_type": "code",
   "execution_count": 8,
   "id": "2c3c7b06",
   "metadata": {},
   "outputs": [
    {
     "data": {
      "text/plain": [
       "['1', '2']"
      ]
     },
     "execution_count": 8,
     "metadata": {},
     "output_type": "execute_result"
    }
   ],
   "source": [
    "re.findall(r\"\\d\", \"a1b2\")   "
   ]
  },
  {
   "cell_type": "code",
   "execution_count": 9,
   "id": "e0ee7e7d",
   "metadata": {},
   "outputs": [
    {
     "data": {
      "text/plain": [
       "['a', '1', '_']"
      ]
     },
     "execution_count": 9,
     "metadata": {},
     "output_type": "execute_result"
    }
   ],
   "source": [
    "re.findall(r\"\\w\", \"a1_@\")                   "
   ]
  },
  {
   "cell_type": "code",
   "execution_count": 10,
   "id": "b3a92890",
   "metadata": {},
   "outputs": [
    {
     "data": {
      "text/plain": [
       "[' ']"
      ]
     },
     "execution_count": 10,
     "metadata": {},
     "output_type": "execute_result"
    }
   ],
   "source": [
    "re.findall(r\"\\s\", \"hello world\")            "
   ]
  },
  {
   "cell_type": "code",
   "execution_count": 16,
   "id": "75477ae3",
   "metadata": {},
   "outputs": [
    {
     "data": {
      "text/plain": [
       "['aaa']"
      ]
     },
     "execution_count": 16,
     "metadata": {},
     "output_type": "execute_result"
    }
   ],
   "source": [
    "re.findall(r\"a+\", \"caaat\")          "
   ]
  },
  {
   "cell_type": "code",
   "execution_count": 17,
   "id": "e56e3dc1",
   "metadata": {},
   "outputs": [
    {
     "data": {
      "text/plain": [
       "['l', 'lo']"
      ]
     },
     "execution_count": 17,
     "metadata": {},
     "output_type": "execute_result"
    }
   ],
   "source": [
    "re.findall(r\"lo*\", \"hello\") "
   ]
  },
  {
   "cell_type": "code",
   "execution_count": 23,
   "id": "624b24cd",
   "metadata": {},
   "outputs": [
    {
     "data": {
      "text/plain": [
       "[]"
      ]
     },
     "execution_count": 23,
     "metadata": {},
     "output_type": "execute_result"
    }
   ],
   "source": [
    "re.findall(r\"a{2,4}\", \"ca00at\")     "
   ]
  },
  {
   "cell_type": "code",
   "execution_count": 28,
   "id": "e7311a62",
   "metadata": {},
   "outputs": [
    {
     "name": "stdout",
     "output_type": "stream",
     "text": [
      "<regex.Match object; span=(0, 5), match='Hello'>\n",
      "<regex.Match object; span=(6, 11), match='World'>\n"
     ]
    }
   ],
   "source": [
    "print(re.match(r\"^Hello\", \"Hello World\")   )# Match at start\n",
    "print(re.search(r\"World$\", \"Hello World\"))  # Match at end\n"
   ]
  },
  {
   "cell_type": "code",
   "execution_count": 30,
   "id": "96d7cdd1",
   "metadata": {},
   "outputs": [
    {
     "name": "stdout",
     "output_type": "stream",
     "text": [
      "baba\n",
      "123\n",
      "456\n"
     ]
    }
   ],
   "source": [
    "m = re.search(r\"(ba)+\", \"ababab\")\n",
    "print(m.group())      # 'ababab'\n",
    "\n",
    "m = re.search(r\"(\\d+)-(\\d+)\", \"Phone: 123-456\")\n",
    "print(m.group(1))     # '123'\n",
    "print(m.group(2))     # '456'\n"
   ]
  },
  {
   "cell_type": "code",
   "execution_count": 32,
   "id": "94a8da4b",
   "metadata": {},
   "outputs": [
    {
     "data": {
      "text/plain": [
       "['cat', 'dog']"
      ]
     },
     "execution_count": 32,
     "metadata": {},
     "output_type": "execute_result"
    }
   ],
   "source": [
    "re.findall(r\"cat|dog\", \"I love cats and dogs\")  # ['cat', 'dog']\n"
   ]
  },
  {
   "cell_type": "code",
   "execution_count": 39,
   "id": "33aeb36c",
   "metadata": {},
   "outputs": [
    {
     "data": {
      "text/plain": [
       "['30']"
      ]
     },
     "execution_count": 39,
     "metadata": {},
     "output_type": "execute_result"
    }
   ],
   "source": [
    "re.findall(r\"\\d+(?= dollars)\", \"30 dollars\")   # ['30']"
   ]
  },
  {
   "cell_type": "code",
   "execution_count": 37,
   "id": "6e0e0675",
   "metadata": {},
   "outputs": [
    {
     "data": {
      "text/plain": [
       "['100']"
      ]
     },
     "execution_count": 37,
     "metadata": {},
     "output_type": "execute_result"
    }
   ],
   "source": [
    "re.findall(r\"(?<=\\$)\\d+\", \"$100\")             "
   ]
  }
 ],
 "metadata": {
  "kernelspec": {
   "display_name": "torch",
   "language": "python",
   "name": "python3"
  },
  "language_info": {
   "codemirror_mode": {
    "name": "ipython",
    "version": 3
   },
   "file_extension": ".py",
   "mimetype": "text/x-python",
   "name": "python",
   "nbconvert_exporter": "python",
   "pygments_lexer": "ipython3",
   "version": "3.9.23"
  }
 },
 "nbformat": 4,
 "nbformat_minor": 5
}
