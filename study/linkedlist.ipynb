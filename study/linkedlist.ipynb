{
 "cells": [
  {
   "cell_type": "markdown",
   "metadata": {},
   "source": [
    "# Reverse"
   ]
  },
  {
   "cell_type": "code",
   "execution_count": 16,
   "metadata": {},
   "outputs": [
    {
     "name": "stdout",
     "output_type": "stream",
     "text": [
      "<__main__.Node object at 0x000001F77BE69CD0>\n"
     ]
    }
   ],
   "source": [
    "class Node:\n",
    "    def __init__(self, val):\n",
    "        self.val = val \n",
    "        self.next = None\n",
    "\n",
    "def reverse(head):\n",
    "    curr=head \n",
    "    prev = None\n",
    "    while curr:\n",
    "        temp = curr.next \n",
    "        curr.next = prev \n",
    "        prev  = curr\n",
    "        curr = temp\n",
    "    return prev\n",
    "\n",
    "node1 = Node(1)\n",
    "node2 = Node(2)\n",
    "node3 = Node(3)\n",
    "node4 = Node(4)\n",
    "node5 = Node(5)\n",
    "\n",
    "node1.next = node2\n",
    "node2.next = node3\n",
    "node3.next = node4\n",
    "node4.next = node5\n",
    "\n",
    "\n",
    "node1= reverse(node1)\n",
    "print(node1)"
   ]
  },
  {
   "cell_type": "code",
   "execution_count": 17,
   "metadata": {},
   "outputs": [
    {
     "name": "stdout",
     "output_type": "stream",
     "text": [
      "5\n",
      "4\n",
      "3\n",
      "2\n",
      "1\n"
     ]
    }
   ],
   "source": [
    "curr = node1 \n",
    "while curr:\n",
    "    print(curr.val)\n",
    "    curr = curr.next"
   ]
  },
  {
   "cell_type": "code",
   "execution_count": 42,
   "metadata": {},
   "outputs": [
    {
     "name": "stdout",
     "output_type": "stream",
     "text": [
      "1\n",
      "4\n",
      "41\n",
      "84\n",
      "415\n",
      "4554\n",
      "5465\n",
      "4\n",
      "41\n",
      "84\n",
      "415\n",
      "4554\n",
      "5465\n",
      "41\n",
      "84\n",
      "415\n",
      "4554\n",
      "5465\n",
      "84\n",
      "415\n",
      "4554\n",
      "5465\n",
      "84\n",
      "4554\n",
      "5465\n",
      "4554\n",
      "5465\n",
      "5465\n",
      "=========\n"
     ]
    }
   ],
   "source": [
    "class Node:\n",
    "    def __init__(self, val):\n",
    "        self.val = val \n",
    "        self.left = None\n",
    "        self.right = None \n",
    "\n",
    "class Tree():\n",
    "    def create(self, val, tree):\n",
    "        if not tree:\n",
    "            return Node(val)\n",
    "        if tree.val < val:\n",
    "            tree.right = self.create(val, tree.right)\n",
    "        if tree.val > val:\n",
    "            tree.left = self.create(val, tree.left)\n",
    "        return tree \n",
    "    def traverse(self, root):\n",
    "        if not root:\n",
    "            return\n",
    "        self.traverse(root.left)\n",
    "        print(root.val)\n",
    "        self.traverse(root.right)\n",
    "\n",
    "\n",
    "    def deletes(self, val, root):\n",
    "        if not root:\n",
    "            return\n",
    "        if root.val < val:\n",
    "            # print(root.right)\n",
    "            root.right = self.deletes(val, root.right)\n",
    "        if root.val > val:\n",
    "            root.left = self.deletes(val, root.left)\n",
    "        if root.val == val:\n",
    "            if not root.left and not root.right:\n",
    "                return None\n",
    "            elif root.left and not root.right:\n",
    "                return root.left\n",
    "            elif not root.left and root.right:\n",
    "                return root.right\n",
    "            else:\n",
    "                curr = root.right\n",
    "                while curr.left:\n",
    "                    curr = curr.left\n",
    "                root.val = curr.val \n",
    "                root.right = self.deletes(curr.val, root.right)\n",
    "        return root\n",
    "\n",
    "\n",
    "arr = [1,5465,15,84,41,4,415,4554]\n",
    "tree = Tree()\n",
    "root = None \n",
    "for i in arr:\n",
    "    root = tree.create(i, root)\n",
    "\n",
    "root = tree.deletes(15, root)\n",
    "tree.traverse(root)\n",
    "root = tree.deletes(1, root)\n",
    "tree.traverse(root)\n",
    "root = tree.deletes(4, root)\n",
    "tree.traverse(root)\n",
    "root = tree.deletes(41, root)\n",
    "tree.traverse(root)\n",
    "root = tree.deletes(415, root)\n",
    "tree.traverse(root)\n",
    "root = tree.deletes(84, root)\n",
    "tree.traverse(root)\n",
    "root = tree.deletes(4554, root)\n",
    "tree.traverse(root)\n",
    "print('=========')\n",
    "root = tree.deletes(5465, root)\n",
    "tree.traverse(root)\n"
   ]
  },
  {
   "cell_type": "code",
   "execution_count": null,
   "metadata": {},
   "outputs": [],
   "source": []
  }
 ],
 "metadata": {
  "kernelspec": {
   "display_name": "Python 3",
   "language": "python",
   "name": "python3"
  },
  "language_info": {
   "codemirror_mode": {
    "name": "ipython",
    "version": 3
   },
   "file_extension": ".py",
   "mimetype": "text/x-python",
   "name": "python",
   "nbconvert_exporter": "python",
   "pygments_lexer": "ipython3",
   "version": "3.9.0"
  }
 },
 "nbformat": 4,
 "nbformat_minor": 2
}
