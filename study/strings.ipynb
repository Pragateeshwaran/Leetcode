{
 "cells": [
  {
   "cell_type": "markdown",
   "metadata": {},
   "source": [
    "# LCS"
   ]
  },
  {
   "cell_type": "code",
   "execution_count": 7,
   "metadata": {},
   "outputs": [
    {
     "name": "stdout",
     "output_type": "stream",
     "text": [
      "5\n"
     ]
    }
   ],
   "source": [
    "strings = \"banana\"\n",
    "maxi = 0\n",
    "def dfs(l, r):\n",
    "    global maxi\n",
    "    while(l<=r and l>0 and r <len(strings) and strings[l] == strings[r]):\n",
    "        l-=1\n",
    "        r+=1\n",
    "    maxi = max(maxi, r-l-1)\n",
    "for i in range(len(strings)):\n",
    "    dfs(i, i)\n",
    "    dfs(i, i+1)\n",
    "\n",
    "print(maxi)\n",
    "    \n",
    "        "
   ]
  },
  {
   "cell_type": "code",
   "execution_count": 13,
   "metadata": {},
   "outputs": [
    {
     "data": {
      "text/plain": [
       "0"
      ]
     },
     "execution_count": 13,
     "metadata": {},
     "output_type": "execute_result"
    }
   ],
   "source": [
    "strings.find('b')"
   ]
  },
  {
   "cell_type": "code",
   "execution_count": 12,
   "metadata": {},
   "outputs": [
    {
     "data": {
      "text/plain": [
       "0"
      ]
     },
     "execution_count": 12,
     "metadata": {},
     "output_type": "execute_result"
    }
   ],
   "source": [
    "arr = [1, 2, 3, 4, 5]\n",
    "(4+1)%5"
   ]
  },
  {
   "cell_type": "code",
   "execution_count": 26,
   "metadata": {},
   "outputs": [
    {
     "name": "stdout",
     "output_type": "stream",
     "text": [
      "0\n",
      "[[0, 0], [1, 1]]\n",
      "1\n",
      "[[0, 0], [1, 1]]\n",
      "0\n",
      "[[1, 0], [1, 1]]\n"
     ]
    },
    {
     "data": {
      "text/plain": [
       "1"
      ]
     },
     "execution_count": 26,
     "metadata": {},
     "output_type": "execute_result"
    }
   ],
   "source": [
    "class Solution:\n",
    "    def uniquePathsWithObstacles(self, obstacleGrid):   \n",
    "        m = len(obstacleGrid)\n",
    "        n = len(obstacleGrid[0])\n",
    "        res = [[0 for i in range(m)] for j in range(n)]\n",
    "        res[m-1][n-1] = 1\n",
    "        for i in range(m-1, -1, -1):\n",
    "            for j in range(n-1, -1, -1):\n",
    "                if i == m-1 and j == n-1:\n",
    "                    continue\n",
    "                print(obstacleGrid[i][j])\n",
    "                if obstacleGrid[i][j] == 1 :\n",
    "                    res[i][j] = 0\n",
    "                else:\n",
    "                    right = (res[i][j+1])  if j+1 < n else 0\n",
    "                    bottom = (res[i+1][j]) if i+1 < m else 0\n",
    "                    res[i][j] = right+bottom\n",
    "                print(res)\n",
    "        return res[0][0]\n",
    "\n",
    "\n",
    "Solution().uniquePathsWithObstacles([[0,1],[0,0]])"
   ]
  },
  {
   "cell_type": "code",
   "execution_count": 38,
   "metadata": {},
   "outputs": [
    {
     "name": "stdout",
     "output_type": "stream",
     "text": [
      "[[1, 2, 3], [1, 3, 2], [2, 1, 3], [2, 3, 1], [3, 1, 2], [3, 2, 1]]\n"
     ]
    }
   ],
   "source": [
    "arr = [1, 2, 3]\n",
    "res = []\n",
    "sub = []\n",
    "def permute(idx):\n",
    "    if idx == len(arr):\n",
    "       res.append(sub[:])\n",
    "       return\n",
    "\n",
    "    for i in range(len(arr)):\n",
    "        if arr[i] in sub:\n",
    "            continue\n",
    "        sub.append(arr[i])\n",
    "        permute(idx+1)\n",
    "        sub.pop()\n",
    "permute(0)\n",
    "print(res) "
   ]
  },
  {
   "cell_type": "code",
   "execution_count": 1,
   "metadata": {},
   "outputs": [
    {
     "data": {
      "text/plain": [
       "[9990, 9975]"
      ]
     },
     "execution_count": 1,
     "metadata": {},
     "output_type": "execute_result"
    }
   ],
   "source": [
    "booking = [[1, 2, 10], [2, 2, 15]]\n",
    "k = 2\n",
    "n = 2\n",
    "\n",
    "def bookings(booking, k, n):\n",
    "    res = [10000]*n \n",
    "    for book in booking:\n",
    "        idx1 = book[0]\n",
    "        idx2 = book[1]\n",
    "        val = book[2]\n",
    "        if idx1 == idx2:\n",
    "            res[idx1-1] -= val\n",
    "        else:\n",
    "            res[idx1-1] -= val\n",
    "            res[idx2-1] -= val\n",
    "    return res\n",
    "bookings(booking, k, n)\n",
    "\n",
    "\n"
   ]
  },
  {
   "cell_type": "code",
   "execution_count": 8,
   "metadata": {},
   "outputs": [],
   "source": [
    "def divisor_founder(val):\n",
    "    res = []\n",
    "    for i in range(1, 1+val):\n",
    "        if val%i ==0:\n",
    "            res.append(i)\n",
    "    return res\n",
    "\n",
    "def basic_form(val):\n",
    "    \n",
    "        ...\n"
   ]
  },
  {
   "cell_type": "code",
   "execution_count": 2,
   "metadata": {},
   "outputs": [
    {
     "name": "stdout",
     "output_type": "stream",
     "text": [
      "165\n",
      "---> 3 55\n",
      "3 55\n",
      "4 55\n",
      "---> 5 11\n",
      "5 11\n",
      "Basic Form (B): 330\n"
     ]
    }
   ],
   "source": [
    "def prime_factors(n):\n",
    "    factors = set()\n",
    "     \n",
    "    while n % 2 == 0:\n",
    "        factors.add(2)\n",
    "        n //= 2\n",
    "    print(n)\n",
    "    i = 3\n",
    "    while i * i <= n:\n",
    "        while n % i == 0:\n",
    "            factors.add(i)\n",
    "            n //= i\n",
    "            print(\"--->\", i, n)\n",
    "        print(i, n)\n",
    "        i += 1\n",
    "\n",
    "    if n > 1:\n",
    "        factors.add(n)\n",
    "\n",
    "    return factors\n",
    "\n",
    "# Example\n",
    "A = 1320\n",
    "B = 1\n",
    "s = prime_factors(A)\n",
    "for p in s:\n",
    "    B *= p  # Multiply only unique prime factors\n",
    "\n",
    "print(\"Basic Form (B):\", B)  # Output: 30\n"
   ]
  },
  {
   "cell_type": "code",
   "execution_count": 26,
   "metadata": {},
   "outputs": [
    {
     "data": {
      "text/plain": [
       "{2, 3, 5, 11}"
      ]
     },
     "execution_count": 26,
     "metadata": {},
     "output_type": "execute_result"
    }
   ],
   "source": [
    "s"
   ]
  },
  {
   "cell_type": "code",
   "execution_count": 21,
   "metadata": {},
   "outputs": [
    {
     "data": {
      "text/plain": [
       "1320"
      ]
     },
     "execution_count": 21,
     "metadata": {},
     "output_type": "execute_result"
    }
   ],
   "source": [
    "120*11"
   ]
  },
  {
   "cell_type": "code",
   "execution_count": 63,
   "metadata": {},
   "outputs": [],
   "source": [
    "N = 1\n",
    "NV = 5\n",
    "val = [2, 3, 5, 4, 7]\n",
    "NQ = 4\n",
    "Q = [[0, 1, 3],\n",
    "[1, 2, 2],\n",
    "[0, 1, 5],\n",
    "[1, 3, 1]]"
   ]
  },
  {
   "cell_type": "code",
   "execution_count": 64,
   "metadata": {},
   "outputs": [
    {
     "name": "stdout",
     "output_type": "stream",
     "text": [
      "0 3 3\n",
      "0 3 3\n",
      "0 3 5\n"
     ]
    },
    {
     "data": {
      "text/plain": [
       "[6, 12, 2, 140]"
      ]
     },
     "execution_count": 64,
     "metadata": {},
     "output_type": "execute_result"
    }
   ],
   "source": [
    "arr = []\n",
    "for q in Q:\n",
    "    if q[0] == 1:\n",
    "        res = 1\n",
    "        for i in range(q[1]-1, len(val), q[2]):\n",
    "            res *= val[i]\n",
    "    else:\n",
    "        res = 0\n",
    "        for i in range(q[1]-1, len(val), q[2]):\n",
    "            print(q[1]-1, len(q), q[2])\n",
    "            res += val[i]\n",
    "    arr.append(res)\n",
    "arr"
   ]
  },
  {
   "cell_type": "code",
   "execution_count": 65,
   "metadata": {},
   "outputs": [
    {
     "data": {
      "text/plain": [
       "(6, 12, 2, 140)"
      ]
     },
     "execution_count": 65,
     "metadata": {},
     "output_type": "execute_result"
    }
   ],
   "source": [
    "6, 12, 2, 140"
   ]
  },
  {
   "cell_type": "code",
   "execution_count": 55,
   "metadata": {},
   "outputs": [
    {
     "name": "stdout",
     "output_type": "stream",
     "text": [
      "2\n",
      "4\n"
     ]
    }
   ],
   "source": [
    "val = [2, 3, 5, 4, 7]\n",
    "for i in range(0, len(val), 3):\n",
    "    print(val[i])   "
   ]
  },
  {
   "cell_type": "code",
   "execution_count": null,
   "metadata": {},
   "outputs": [],
   "source": []
  }
 ],
 "metadata": {
  "kernelspec": {
   "display_name": "Python 3",
   "language": "python",
   "name": "python3"
  },
  "language_info": {
   "codemirror_mode": {
    "name": "ipython",
    "version": 3
   },
   "file_extension": ".py",
   "mimetype": "text/x-python",
   "name": "python",
   "nbconvert_exporter": "python",
   "pygments_lexer": "ipython3",
   "version": "3.9.0"
  }
 },
 "nbformat": 4,
 "nbformat_minor": 2
}
